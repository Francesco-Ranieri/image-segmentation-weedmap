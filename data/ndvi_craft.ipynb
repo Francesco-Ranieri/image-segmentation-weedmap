{
 "cells": [
  {
   "cell_type": "markdown",
   "metadata": {},
   "source": [
    "## Create NDVI image"
   ]
  },
  {
   "cell_type": "code",
   "execution_count": null,
   "metadata": {},
   "outputs": [],
   "source": [
    "import sys\n",
    "from constants import *\n",
    "from common import *\n",
    "from metrics import *\n",
    "\n",
    "sys.path.append(\"data\")\n",
    "from processing import *\n",
    "from data.constants import *\n",
    "from data.utils import load_data_path"
   ]
  },
  {
   "cell_type": "code",
   "execution_count": null,
   "metadata": {},
   "outputs": [],
   "source": [
    "data = load_data_path()"
   ]
  },
  {
   "cell_type": "code",
   "execution_count": null,
   "metadata": {},
   "outputs": [],
   "source": [
    "for drone in data:\n",
    "    for image_dir in data[drone]:\n",
    "        ndvi_crafted_path = os.path.join(TILES_PATH, drone, image_dir, TILE, 'NDVI_crafted')\n",
    "        os.makedirs(ndvi_crafted_path, exist_ok=True)\n",
    "        for nir, red in zip(data[drone][image_dir][TILE][NIR_CHANNEL], data[drone][image_dir][TILE][RED_CHANNEL]):\n",
    "            \n",
    "            nir_image = Image.open(nir)\n",
    "            red_image = Image.open(red)\n",
    "\n",
    "            ndvi_craft = []\n",
    "            \n",
    "            for pixel_nir, pixel_red in zip(nir_image.getdata(), red_image.getdata()):\n",
    "                if pixel_nir + pixel_red == 0:\n",
    "                    ndvi_craft.append(0)\n",
    "                else:\n",
    "                    ndvi_craft.append((pixel_nir - pixel_red) / (pixel_nir + pixel_red))    \n",
    "                    \n",
    "            ndvi_craft = np.array(ndvi_craft)\n",
    "            ndvi_craft_reshaped = ndvi_craft.reshape((360, 480))\n",
    "            ndvi_scaled = (ndvi_craft_reshaped - ndvi_craft_reshaped.min()) / (ndvi_craft_reshaped.max() - ndvi_craft_reshaped.min()) * 255\n",
    "            ndvi_reshaped_uint8 = ndvi_scaled.astype(np.uint8)\n",
    "            image = Image.fromarray(ndvi_reshaped_uint8)\n",
    "            sepatator = '\\\\'\n",
    "            file_name = f\"{ndvi_crafted_path}/{nir.split(sepatator)[-1]}\"\n",
    "            image.save(file_name)\n",
    "            \n",
    "            \n",
    "            \n"
   ]
  }
 ],
 "metadata": {
  "kernelspec": {
   "display_name": "Python 3",
   "language": "python",
   "name": "python3"
  },
  "language_info": {
   "codemirror_mode": {
    "name": "ipython",
    "version": 3
   },
   "file_extension": ".py",
   "mimetype": "text/x-python",
   "name": "python",
   "nbconvert_exporter": "python",
   "pygments_lexer": "ipython3",
   "version": "3.10.13"
  }
 },
 "nbformat": 4,
 "nbformat_minor": 2
}
