{
 "cells": [
  {
   "cell_type": "markdown",
   "metadata": {},
   "source": [
    "# BASELINE\n",
    "\n",
    "------------------------------------------"
   ]
  },
  {
   "cell_type": "code",
   "execution_count": null,
   "metadata": {},
   "outputs": [],
   "source": [
    "! pip install optuna"
   ]
  },
  {
   "cell_type": "code",
   "execution_count": null,
   "metadata": {},
   "outputs": [],
   "source": [
    "import sys\n",
    "from metrics import *\n",
    "\n",
    "sys.path.append('data')"
   ]
  },
  {
   "cell_type": "code",
   "execution_count": null,
   "metadata": {},
   "outputs": [],
   "source": [
    "import optuna\n",
    "import torchvision.transforms as transforms\n",
    "\n",
    "from PIL import Image\n",
    "from data.processing import convert_to_black_and_white\n",
    "\n",
    "\n",
    "def objective(trial, images, ground_truth):\n",
    "\n",
    "    # Define the search space for hyperparameters\n",
    "    threshold  = trial.suggest_int('threshold ', 0, 255)\n",
    "    transform = transforms.ToTensor()\n",
    "\n",
    "    mean_iou = 0\n",
    "\n",
    "    for image_path, ground_truth_path in zip(images, ground_truth):\n",
    "        \n",
    "        image = Image.open(image_path)      \n",
    "        gt = Image.open(ground_truth_path)\n",
    "         \n",
    "        gt = convert_to_black_and_white(image=gt, save_results=False, threshold=1)\n",
    "        \n",
    "        gt = transform(gt).squeeze(0)\n",
    "\n",
    "        width, height = image.size\n",
    "        \n",
    "        pixels = list(image.getdata())\n",
    "        vegetation = []\n",
    "        \n",
    "        for pixel in pixels:\n",
    "            egx_index = calculate_exg_index(pixel)\n",
    "            if egx_index > threshold:\n",
    "                vegetation.append(1)\n",
    "            else:\n",
    "                vegetation.append(0)\n",
    "\n",
    "        vegetation = torch.tensor(vegetation)\n",
    "        vegetation = vegetation.view(height, width)\n",
    "        \n",
    "        # Calculate the mean IoU\n",
    "        mean_iou += calculate_miou(vegetation, gt, 2)\n",
    "        print(f\"Mean IoU: {mean_iou/len(images)}\")\n",
    "        \n",
    "    return mean_iou / len(images)\n",
    "            "
   ]
  },
  {
   "cell_type": "code",
   "execution_count": null,
   "metadata": {},
   "outputs": [],
   "source": [
    "import os\n",
    "import optuna\n",
    "import numpy as np\n",
    "\n",
    "from data.constants import *\n",
    "from data.utils import load_data_path\n",
    "\n",
    "\n",
    "data = load_data_path()\n",
    "red_edge_data = data[RED_EDGE]\n",
    "storage_name = \"sqlite:///baseline_bw.db\"\n",
    "\n",
    "\n",
    "for key, value in red_edge_data.items():\n",
    "    \n",
    "    tiles = value[TILE]\n",
    "    ground_truth = value[GROUND_TRUTH]\n",
    "    pruner = optuna.pruners.MedianPruner(n_startup_trials=5, n_warmup_steps=10)\n",
    "    \n",
    "    study = optuna.create_study(study_name=key, direction='maximize', storage=storage_name, pruner=pruner, load_if_exists=True)\n",
    "    study.optimize(lambda trial: objective(trial, tiles, ground_truth), n_trials=20)\n",
    "\n",
    "    # Get the best hyperparameters\n",
    "    try:\n",
    "        best_params = study.best_params\n",
    "        print(f\"Best Hyperparameters {key}:\", best_params)\n",
    "    except ValueError:\n",
    "        print(f\"No best hyperparameters found for {key}\")"
   ]
  }
 ],
 "metadata": {
  "kernelspec": {
   "display_name": "Python 3",
   "language": "python",
   "name": "python3"
  },
  "language_info": {
   "codemirror_mode": {
    "name": "ipython",
    "version": 3
   },
   "file_extension": ".py",
   "mimetype": "text/x-python",
   "name": "python",
   "nbconvert_exporter": "python",
   "pygments_lexer": "ipython3",
   "version": "3.10.13"
  }
 },
 "nbformat": 4,
 "nbformat_minor": 2
}
