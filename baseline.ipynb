{
 "cells": [
  {
   "cell_type": "markdown",
   "metadata": {},
   "source": [
    "# BASELINE\n",
    "\n",
    "------------------------------------------"
   ]
  },
  {
   "cell_type": "markdown",
   "metadata": {},
   "source": [
    "## Common Utils"
   ]
  },
  {
   "cell_type": "code",
   "execution_count": 2,
   "metadata": {},
   "outputs": [],
   "source": [
    "import sys\n",
    "from metrics import *\n",
    "\n",
    "sys.path.append('data')\n",
    "\n",
    "from data.constants import *\n",
    "from constants import *"
   ]
  },
  {
   "cell_type": "markdown",
   "metadata": {},
   "source": [
    "### Optuna"
   ]
  },
  {
   "cell_type": "code",
   "execution_count": 4,
   "metadata": {},
   "outputs": [],
   "source": [
    "from enum import Enum\n",
    "\n",
    "class ChannelAllowed(Enum):\n",
    "    RGB = RGB_CHANNEL,\n",
    "    NDVI = NVDI_CHANNEL"
   ]
  },
  {
   "cell_type": "code",
   "execution_count": 18,
   "metadata": {},
   "outputs": [],
   "source": [
    "import optuna\n",
    "import torchvision.transforms as transforms\n",
    "\n",
    "from PIL import Image\n",
    "from data.processing import convert_to_black_and_white\n",
    "\n",
    "\n",
    "def objective(trial, images, ground_truth, channel: ChannelAllowed):\n",
    "\n",
    "    # Define the search space for hyperparameters\n",
    "    threshold  = trial.suggest_int('threshold ', 0, 255)\n",
    "    transform = transforms.ToTensor()\n",
    "\n",
    "    mean_iou = 0\n",
    "\n",
    "    for image_path, ground_truth_path in zip(images, ground_truth):\n",
    "        \n",
    "        image = Image.open(image_path)      \n",
    "        \n",
    "        gt = Image.open(ground_truth_path)\n",
    "        gt = convert_to_black_and_white(image=gt, save_results=False, threshold=1)\n",
    "        gt = transform(gt).squeeze(0)\n",
    "\n",
    "        width, height = image.size\n",
    "        \n",
    "        pixels = list(image.getdata())\n",
    "        vegetation = []\n",
    "        \n",
    "        for pixel in pixels:\n",
    "            \n",
    "            if channel == ChannelAllowed.RGB:\n",
    "                vegetation_index = calculate_exg_index(pixel)\n",
    "            else:\n",
    "                # NDVI\n",
    "                vegetation_index = pixel\n",
    "        \n",
    "            if vegetation_index > threshold:\n",
    "                vegetation.append(1)\n",
    "            else:\n",
    "                vegetation.append(0)\n",
    "\n",
    "        vegetation = torch.tensor(vegetation)\n",
    "        vegetation = vegetation.view(height, width)\n",
    "        \n",
    "        # Calculate the mean IoU\n",
    "        mean_iou += calculate_miou(vegetation, gt, 2)\n",
    "        # print(f\"Mean IoU: {mean_iou/len(images)}\")\n",
    "        \n",
    "    return mean_iou / len(images)\n",
    "            "
   ]
  },
  {
   "cell_type": "markdown",
   "metadata": {},
   "source": [
    "### Baseline"
   ]
  },
  {
   "cell_type": "code",
   "execution_count": 12,
   "metadata": {},
   "outputs": [
    {
     "data": {
      "text/plain": [
       "<DroneEnum.RED_EDGE: 'RedEdge'>"
      ]
     },
     "execution_count": 12,
     "metadata": {},
     "output_type": "execute_result"
    }
   ],
   "source": [
    "DroneEnum.RED_EDGE"
   ]
  },
  {
   "cell_type": "code",
   "execution_count": 14,
   "metadata": {},
   "outputs": [],
   "source": [
    "import os\n",
    "import optuna\n",
    "import numpy as np\n",
    "import tqdm\n",
    "from data.constants import *\n",
    "from data.utils import load_data_path, DroneEnum\n",
    "\n",
    "dir_path = f\"{OPTUNA}/{BASELINE}\"\n",
    "data = load_data_path(drone_to_load=[DroneEnum.RED_EDGE])\n",
    "study_channel = ChannelAllowed.NDVI.value"
   ]
  },
  {
   "cell_type": "markdown",
   "metadata": {},
   "source": [
    "#### Separate images"
   ]
  },
  {
   "cell_type": "code",
   "execution_count": null,
   "metadata": {},
   "outputs": [],
   "source": [
    "storage_name = f\"sqlite:///baseline_{study_channel}_separate_images.db\""
   ]
  },
  {
   "cell_type": "code",
   "execution_count": null,
   "metadata": {},
   "outputs": [],
   "source": [
    "for drone, drone_dir in data.items():\n",
    "    print(f\"Drone: {drone}\")\n",
    "    for image, image_dir in drone_dir.items():\n",
    "        \n",
    "        tiles = image_dir[TILE][study_channel]\n",
    "        ground_truth = image_dir[GROUND_TRUTH]\n",
    "        pruner = optuna.pruners.MedianPruner(n_startup_trials=5, n_warmup_steps=10)\n",
    "        \n",
    "        study = optuna.create_study(study_name=image, direction='maximize', storage=storage_name, pruner=pruner, load_if_exists=True)\n",
    "        study.optimize(lambda trial: objective(trial, tiles, ground_truth, study_channel), n_trials=20)\n",
    "\n",
    "        # Get the best hyperparameters\n",
    "        try:\n",
    "            best_params = study.best_params\n",
    "            print(f\"Best Hyperparameters {image}:\", best_params)\n",
    "        except ValueError:\n",
    "            print(f\"No best hyperparameters found for {key}\")"
   ]
  },
  {
   "cell_type": "markdown",
   "metadata": {},
   "source": [
    "#### All images togheter"
   ]
  },
  {
   "cell_type": "code",
   "execution_count": 16,
   "metadata": {},
   "outputs": [],
   "source": [
    "storage_name = f\"sqlite:///{dir_path}/{study_channel}_all_REDEDGE.db\""
   ]
  },
  {
   "cell_type": "code",
   "execution_count": 19,
   "metadata": {},
   "outputs": [
    {
     "name": "stderr",
     "output_type": "stream",
     "text": [
      "[I 2024-02-19 20:26:42,610] A new study created in RDB with name: all_RED_EDGE\n",
      "[I 2024-02-19 20:28:40,141] Trial 0 finished with value: 0.7481512312114853 and parameters: {'threshold ': 242}. Best is trial 0 with value: 0.7481512312114853.\n",
      "[I 2024-02-19 20:30:42,492] Trial 1 finished with value: 0.7481580313948012 and parameters: {'threshold ': 240}. Best is trial 1 with value: 0.7481580313948012.\n",
      "[I 2024-02-19 20:32:44,821] Trial 2 finished with value: 0.7396489782431691 and parameters: {'threshold ': 207}. Best is trial 1 with value: 0.7481580313948012.\n",
      "[I 2024-02-19 20:34:47,517] Trial 3 finished with value: 0.5112838424238374 and parameters: {'threshold ': 22}. Best is trial 1 with value: 0.7481580313948012.\n",
      "[I 2024-02-19 20:36:50,047] Trial 4 finished with value: 0.8257810553939072 and parameters: {'threshold ': 105}. Best is trial 4 with value: 0.8257810553939072.\n",
      "[I 2024-02-19 20:38:55,548] Trial 5 finished with value: 0.8005389278696985 and parameters: {'threshold ': 82}. Best is trial 4 with value: 0.8257810553939072.\n",
      "[I 2024-02-19 20:40:59,290] Trial 6 finished with value: 0.5315987202420485 and parameters: {'threshold ': 45}. Best is trial 4 with value: 0.8257810553939072.\n",
      "[I 2024-02-19 20:43:03,888] Trial 7 finished with value: 0.519679746561511 and parameters: {'threshold ': 41}. Best is trial 4 with value: 0.8257810553939072.\n",
      "[I 2024-02-19 20:45:08,532] Trial 8 finished with value: 0.5702316630046008 and parameters: {'threshold ': 52}. Best is trial 4 with value: 0.8257810553939072.\n",
      "[I 2024-02-19 20:47:13,363] Trial 9 finished with value: 0.6824999352283392 and parameters: {'threshold ': 63}. Best is trial 4 with value: 0.8257810553939072.\n"
     ]
    },
    {
     "name": "stdout",
     "output_type": "stream",
     "text": [
      "Best Hyperparameters: {'threshold ': 105}\n"
     ]
    }
   ],
   "source": [
    "# Merge images from different drones\n",
    "\n",
    "tiles = []\n",
    "ground_truth = []\n",
    "images = []\n",
    "\n",
    "for drone, drone_dir in data.items():\n",
    "    for image, image_dir in drone_dir.items():     \n",
    "        images += image   \n",
    "        tiles += image_dir[TILE][study_channel]\n",
    "        ground_truth += image_dir[GROUND_TRUTH]\n",
    "\n",
    "study_name = 'all_RED_EDGE'\n",
    "pruner = optuna.pruners.MedianPruner(n_startup_trials=5, n_warmup_steps=10)\n",
    "\n",
    "study = optuna.create_study(study_name=study_name, direction='maximize', storage=storage_name, pruner=pruner, load_if_exists=True)\n",
    "study.optimize(lambda trial: objective(trial, tiles, ground_truth, study_channel), n_trials=10) \n",
    "# Get the best hyperparameters\n",
    "try:\n",
    "    best_params = study.best_params\n",
    "    print(f\"Best Hyperparameters:\", best_params)\n",
    "except ValueError:\n",
    "    print(f\"No best hyperparameters found\")"
   ]
  },
  {
   "cell_type": "code",
   "execution_count": 20,
   "metadata": {},
   "outputs": [
    {
     "name": "stderr",
     "output_type": "stream",
     "text": [
      "\u001b[1;38;5;214mCOMET WARNING:\u001b[0m To get all data logged automatically, import comet_ml before the following modules: torch.\n",
      "\u001b[1;38;5;214mCOMET WARNING:\u001b[0m As you are running in a Jupyter environment, you will need to call `experiment.end()` when finished to ensure all metrics and code are logged before exiting.\n",
      "\u001b[1;38;5;39mCOMET INFO:\u001b[0m Experiment is live on comet.com https://www.comet.com/francesco-ranieri/weedmap-image-segmentation/162b2518bb024f89bbcc0d4e22b7c0a2\n",
      "\n",
      "\u001b[1;38;5;214mCOMET WARNING:\u001b[0m Unknown error exporting current conda environment\n",
      "\u001b[1;38;5;214mCOMET WARNING:\u001b[0m Unknown error retrieving Conda package as an explicit file\n",
      "\u001b[1;38;5;214mCOMET WARNING:\u001b[0m Unknown error retrieving Conda information\n",
      "\u001b[1;38;5;39mCOMET INFO:\u001b[0m ---------------------------------------------------------------------------------------\n",
      "\u001b[1;38;5;39mCOMET INFO:\u001b[0m Comet.ml Experiment Summary\n",
      "\u001b[1;38;5;39mCOMET INFO:\u001b[0m ---------------------------------------------------------------------------------------\n",
      "\u001b[1;38;5;39mCOMET INFO:\u001b[0m   Data:\n",
      "\u001b[1;38;5;39mCOMET INFO:\u001b[0m     display_summary_level : 1\n",
      "\u001b[1;38;5;39mCOMET INFO:\u001b[0m     url                   : https://www.comet.com/francesco-ranieri/weedmap-image-segmentation/162b2518bb024f89bbcc0d4e22b7c0a2\n",
      "\u001b[1;38;5;39mCOMET INFO:\u001b[0m   Metrics:\n",
      "\u001b[1;38;5;39mCOMET INFO:\u001b[0m     mIOU : 0.8257810553939072\n",
      "\u001b[1;38;5;39mCOMET INFO:\u001b[0m   Others:\n",
      "\u001b[1;38;5;39mCOMET INFO:\u001b[0m     Name : baseline_red_edge_ndvi\n",
      "\u001b[1;38;5;39mCOMET INFO:\u001b[0m   Parameters:\n",
      "\u001b[1;38;5;39mCOMET INFO:\u001b[0m     threshold  : 105\n",
      "\u001b[1;38;5;39mCOMET INFO:\u001b[0m   Uploads:\n",
      "\u001b[1;38;5;39mCOMET INFO:\u001b[0m     environment details      : 1\n",
      "\u001b[1;38;5;39mCOMET INFO:\u001b[0m     filename                 : 1\n",
      "\u001b[1;38;5;39mCOMET INFO:\u001b[0m     git metadata             : 1\n",
      "\u001b[1;38;5;39mCOMET INFO:\u001b[0m     git-patch (uncompressed) : 1 (1.51 KB)\n",
      "\u001b[1;38;5;39mCOMET INFO:\u001b[0m     installed packages       : 1\n",
      "\u001b[1;38;5;39mCOMET INFO:\u001b[0m     notebook                 : 1\n",
      "\u001b[1;38;5;39mCOMET INFO:\u001b[0m     source_code              : 1\n",
      "\u001b[1;38;5;39mCOMET INFO:\u001b[0m \n",
      "\u001b[1;38;5;214mCOMET WARNING:\u001b[0m To get all data logged automatically, import comet_ml before the following modules: torch.\n",
      "\u001b[1;38;5;39mCOMET INFO:\u001b[0m Please wait for metadata to finish uploading (timeout is 3600 seconds)\n",
      "\u001b[1;38;5;39mCOMET INFO:\u001b[0m Uploading 1 metrics, params and output messages\n",
      "\u001b[1;38;5;39mCOMET INFO:\u001b[0m Please wait for assets to finish uploading (timeout is 10800 seconds)\n",
      "\u001b[1;38;5;39mCOMET INFO:\u001b[0m Still uploading 1 file(s), remaining 2.66 MB/3.06 MB\n"
     ]
    }
   ],
   "source": [
    "from comet_ml import Experiment\n",
    "\n",
    "experiment = Experiment(\n",
    "    api_key=\"eI2MJOa5W8d1PcAvxhmyP5VGt\",\n",
    "    project_name=\"weedmap-image-segmentation\",\n",
    "    workspace=\"francesco-ranieri\"\n",
    ")\n",
    "\n",
    "experiment.set_name('baseline_red_edge_ndvi')\n",
    "experiment.add_tags(['baseline', 'ndvi', 'red_edge'])\n",
    "experiment.log_parameters(best_params)\n",
    "experiment.log_metric('mIOU', study.best_value)\n",
    "experiment.end()"
   ]
  },
  {
   "cell_type": "markdown",
   "metadata": {},
   "source": [
    "#### Test"
   ]
  },
  {
   "cell_type": "code",
   "execution_count": null,
   "metadata": {},
   "outputs": [],
   "source": [
    "storage_name = f\"sqlite:///{dir_path}/{study_channel}_test.db\""
   ]
  },
  {
   "cell_type": "code",
   "execution_count": null,
   "metadata": {},
   "outputs": [],
   "source": [
    "# Merge images from different drones\n",
    "\n",
    "tiles = []\n",
    "ground_truth = []\n",
    "images = []\n",
    "\n",
    "for drone, drone_dir in data.items():\n",
    "    for image, image_dir in drone_dir.items():   \n",
    "        if image in ('003', '005'):\n",
    "            images += image   \n",
    "            tiles += image_dir[TILE][study_channel]\n",
    "            ground_truth += image_dir[GROUND_TRUTH]\n",
    "\n",
    "study_name = 'test'\n",
    "pruner = optuna.pruners.MedianPruner(n_startup_trials=5, n_warmup_steps=10)\n",
    "\n",
    "study = optuna.create_study(study_name=study_name, direction='maximize', storage=storage_name, pruner=pruner, load_if_exists=True)\n",
    "study.optimize(lambda trial: objective(trial, tiles, ground_truth, study_channel), n_trials=20) \n",
    "# Get the best hyperparameters\n",
    "try:\n",
    "    best_params = study.best_params\n",
    "    print(f\"Best Hyperparameters:\", best_params)\n",
    "except ValueError:\n",
    "    print(f\"No best hyperparameters found\")"
   ]
  },
  {
   "cell_type": "code",
   "execution_count": null,
   "metadata": {},
   "outputs": [],
   "source": [
    "from comet_ml import Experiment\n",
    "\n",
    "experiment = Experiment(\n",
    "    api_key=\"eI2MJOa5W8d1PcAvxhmyP5VGt\",\n",
    "    project_name=\"weedmap-image-segmentation\",\n",
    "    workspace=\"francesco-ranieri\"\n",
    ")\n",
    "\n",
    "experiment.set_name('baseline_ndvi')\n",
    "experiment.add_tags(['baseline', 'ndvi', 'test'])\n",
    "experiment.log_parameters(best_params)\n",
    "experiment.log_metric('mIOU', study.best_value)\n",
    "experiment.end()"
   ]
  },
  {
   "cell_type": "markdown",
   "metadata": {},
   "source": [
    "#### Train"
   ]
  },
  {
   "cell_type": "code",
   "execution_count": null,
   "metadata": {},
   "outputs": [],
   "source": [
    "storage_name = f\"sqlite:///{dir_path}/{study_channel}_train.db\""
   ]
  },
  {
   "cell_type": "code",
   "execution_count": null,
   "metadata": {},
   "outputs": [],
   "source": [
    "# Merge images from different drones\n",
    "\n",
    "tiles = []\n",
    "ground_truth = []\n",
    "images = []\n",
    "\n",
    "for drone, drone_dir in data.items():\n",
    "    for image, image_dir in drone_dir.items():   \n",
    "        if image not in ('003', '005'):\n",
    "            images += image   \n",
    "            tiles += image_dir[TILE][study_channel]\n",
    "            ground_truth += image_dir[GROUND_TRUTH]\n",
    "\n",
    "study_name = 'train'\n",
    "pruner = optuna.pruners.MedianPruner(n_startup_trials=5, n_warmup_steps=10)\n",
    "\n",
    "study = optuna.create_study(study_name=study_name, direction='maximize', storage=storage_name, pruner=pruner, load_if_exists=True)\n",
    "study.optimize(lambda trial: objective(trial, tiles, ground_truth, study_channel), n_trials=20) \n",
    "# Get the best hyperparameters\n",
    "try:\n",
    "    best_params = study.best_params\n",
    "    print(f\"Best Hyperparameters:\", best_params)\n",
    "except ValueError:\n",
    "    print(f\"No best hyperparameters found\")"
   ]
  },
  {
   "cell_type": "code",
   "execution_count": null,
   "metadata": {},
   "outputs": [],
   "source": [
    "from comet_ml import Experiment\n",
    "\n",
    "experiment = Experiment(\n",
    "    api_key=\"eI2MJOa5W8d1PcAvxhmyP5VGt\",\n",
    "    project_name=\"weedmap-image-segmentation\",\n",
    "    workspace=\"francesco-ranieri\"\n",
    ")\n",
    "\n",
    "experiment.set_name('baseline_train_ndvi')\n",
    "experiment.add_tags(['baseline', 'ndvi', 'train'])\n",
    "experiment.log_parameters(best_params)\n",
    "experiment.log_metric('mIOU', study.best_value)\n",
    "experiment.end()"
   ]
  }
 ],
 "metadata": {
  "kernelspec": {
   "display_name": "Python 3",
   "language": "python",
   "name": "python3"
  },
  "language_info": {
   "codemirror_mode": {
    "name": "ipython",
    "version": 3
   },
   "file_extension": ".py",
   "mimetype": "text/x-python",
   "name": "python",
   "nbconvert_exporter": "python",
   "pygments_lexer": "ipython3",
   "version": "3.10.13"
  }
 },
 "nbformat": 4,
 "nbformat_minor": 2
}
