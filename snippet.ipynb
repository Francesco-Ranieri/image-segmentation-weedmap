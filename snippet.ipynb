{
 "cells": [
  {
   "cell_type": "markdown",
   "metadata": {},
   "source": [
    "## Create NDVI image"
   ]
  },
  {
   "cell_type": "code",
   "execution_count": null,
   "metadata": {},
   "outputs": [],
   "source": [
    "from PIL import Image\n",
    "\n",
    "\n",
    "ndvi = data['Sequoia']['005']['tile']['NDVI'][43] # (nir - red) / (nir + red)\n",
    "nir = data['Sequoia']['005']['tile']['NIR'][43]\n",
    "red = data['Sequoia']['005']['tile']['R'][43]\n",
    "\n",
    "\n",
    "ndvi = Image.open(ndvi)\n",
    "nir = Image.open(nir)\n",
    "red = Image.open(red)\n",
    "\n",
    "ndvi_craft = []\n",
    "\n",
    "for pixel_nir, pixel_red in zip(nir.getdata(), red.getdata()):\n",
    "    if pixel_nir + pixel_red == 0:\n",
    "        ndvi_craft.append(0)\n",
    "    else:\n",
    "        ndvi_craft.append((pixel_nir - pixel_red) / (pixel_nir + pixel_red))    \n"
   ]
  },
  {
   "cell_type": "code",
   "execution_count": null,
   "metadata": {},
   "outputs": [],
   "source": [
    "import numpy as np\n",
    "\n",
    "a = np.array(ndvi_craft)\n",
    "arr_reshaped = a.reshape((360, 480))\n",
    "\n",
    "arr_scaled = (arr_reshaped - arr_reshaped.min()) / (arr_reshaped.max() - arr_reshaped.min()) * 255\n",
    "\n",
    "arr_reshaped_uint8 = arr_scaled.astype(np.uint8)\n",
    "image = Image.fromarray(arr_reshaped_uint8)\n",
    "image"
   ]
  },
  {
   "cell_type": "code",
   "execution_count": null,
   "metadata": {},
   "outputs": [],
   "source": [
    "ndvi"
   ]
  }
 ],
 "metadata": {
  "language_info": {
   "name": "python"
  }
 },
 "nbformat": 4,
 "nbformat_minor": 2
}
