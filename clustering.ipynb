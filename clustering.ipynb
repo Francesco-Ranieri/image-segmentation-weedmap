{
 "cells": [
  {
   "cell_type": "markdown",
   "metadata": {},
   "source": [
    "# CLUSTERING\n",
    "\n",
    "------------------------------------------"
   ]
  },
  {
   "cell_type": "markdown",
   "metadata": {},
   "source": [
    "## Common Utils"
   ]
  },
  {
   "cell_type": "code",
   "execution_count": null,
   "metadata": {},
   "outputs": [],
   "source": [
    "import sys\n",
    "from constants import *\n",
    "from common import *\n",
    "from metrics import *\n",
    "\n",
    "sys.path.append(\"data\")\n",
    "from processing import *\n",
    "from data.constants import *\n",
    "from data.utils import load_split_data"
   ]
  },
  {
   "cell_type": "markdown",
   "metadata": {},
   "source": [
    "## Load Data"
   ]
  },
  {
   "cell_type": "code",
   "execution_count": null,
   "metadata": {},
   "outputs": [],
   "source": [
    "import os\n",
    "directory_path = os.path.join(EXPERIMENT_PATH, CLUSTERING)\n",
    "os.makedirs(directory_path, exist_ok=True)"
   ]
  },
  {
   "cell_type": "code",
   "execution_count": null,
   "metadata": {},
   "outputs": [],
   "source": [
    "x_train, y_train, x_test, y_test = load_split_data(open_image=True)"
   ]
  },
  {
   "cell_type": "markdown",
   "metadata": {},
   "source": [
    "## Clustering"
   ]
  },
  {
   "cell_type": "code",
   "execution_count": null,
   "metadata": {},
   "outputs": [],
   "source": [
    "from sklearn.exceptions import ConvergenceWarning\n",
    "from warnings import simplefilter\n",
    "from sklearn.exceptions import ConvergenceWarning\n",
    "from tqdm import TqdmWarning\n",
    "\n",
    "simplefilter(\"ignore\", category=ConvergenceWarning)\n",
    "simplefilter(\"ignore\", category=UserWarning)\n",
    "simplefilter(\"ignore\", category=TqdmWarning)"
   ]
  },
  {
   "cell_type": "markdown",
   "metadata": {},
   "source": [
    "### Experiments"
   ]
  },
  {
   "cell_type": "code",
   "execution_count": null,
   "metadata": {},
   "outputs": [],
   "source": [
    "from comet_ml import Experiment\n",
    "from comet_ml.integration.sklearn import log_model\n",
    "import os\n",
    "import numpy as np\n",
    "import matplotlib.pyplot as plt\n",
    "from sklearn.cluster import KMeans\n",
    "from torchvision import transforms\n",
    "from PIL import Image\n",
    "\n",
    "\n",
    "def clustering_pipeline(images,\n",
    "                        ground_truths,\n",
    "                        model, \n",
    "                        experiment_name,\n",
    "                        directory_path,\n",
    "                        num_clusters:int,\n",
    "                        model_tags: list = [],\n",
    "                        target_label:int = 1, \n",
    "                        default_channels:int = 1,\n",
    "                        num_classes:int = 2,\n",
    "                        plot_results: bool = False):\n",
    "\n",
    "    try:\n",
    "        os.makedirs(directory_path, exist_ok=True)\n",
    "        experiment = Experiment(\n",
    "            api_key=\"eI2MJOa5W8d1PcAvxhmyP5VGt\",\n",
    "            project_name=\"weedmap-image-segmentation\",\n",
    "            workspace=\"francesco-ranieri\"\n",
    "        )\n",
    "        \n",
    "        experiment.set_name(experiment_name)\n",
    "        experiment.add_tags(model_tags)\n",
    "        \n",
    "        experiment.log_parameters(\n",
    "            {'n_clusters': num_clusters, \n",
    "            'n_init': 'auto', \n",
    "            'random_state': SEED,\n",
    "            'target_label': target_label,\n",
    "            'default_channels': default_channels,\n",
    "            'num_classes': num_classes,\n",
    "            }\n",
    "        )\n",
    "        \n",
    "        images_dirs = []\n",
    "        num_tiles = 0\n",
    "        miou = 0\n",
    "\n",
    "        for drone in images:\n",
    "            os.mkdir(os.path.join(directory_path, drone))\n",
    "            print(f'- Processing drone {drone}')\n",
    "            \n",
    "            for image_dir in images[drone]:\n",
    "                images_dirs.append(image_dir)\n",
    "                os.mkdir(os.path.join(directory_path, drone, image_dir))        \n",
    "                print(f'-- Processing image directory {image_dir}')\n",
    "                \n",
    "                for index, image in enumerate(images[drone][image_dir]):\n",
    "                    print(f'--- Processing image {index}')\n",
    "                    \n",
    "                    image = flat_image(image)\n",
    "                    ground_truth = ground_truths[drone][image_dir][index]\n",
    "                    \n",
    "                    file_name = f'frame{\"{:04d}\".format(index)}.png'\n",
    "                    image_path = os.path.join(directory_path, drone, image_dir, file_name)\n",
    "                    \n",
    "                    predicted_labels, gt_labels = clustering(image, ground_truth, kmeans, image_path)\n",
    "                    miou += evaluate_clustering(predicted_labels, gt_labels, num_classes)\n",
    "                    num_tiles += 1\n",
    "        \n",
    "        \n",
    "        experiment.log_parameters({'image_dirs': '_'.join(images_dirs)})\n",
    "        miou_overall = miou / num_tiles\n",
    "        print(f'--- MIOU: {miou_overall}')\n",
    "        experiment.log_metric('mIOU', miou_overall)\n",
    "        \n",
    "        log_model(\n",
    "            experiment = experiment,\n",
    "            model = model,\n",
    "            model_name = experiment_name,\n",
    "        )\n",
    "        \n",
    "        experiment.end()\n",
    "\n",
    "    except Exception as e:\n",
    "        delete_experiment_files(directory_path)\n",
    "        print(e)\n",
    "        experiment.end()\n",
    "        raise e\n",
    "\n",
    "def clustering(image,\n",
    "               ground_truth,\n",
    "               model,\n",
    "               target_label:int  = 1,\n",
    "               image_path: str = None,\n",
    "               plot_results: bool = False):\n",
    "     \n",
    "    transform = transforms.Compose([transforms.ToTensor()])\n",
    "    model.fit(image)\n",
    "    \n",
    "    gt_labels = transform(ground_truth)\n",
    "    height, width = ground_truth.height, ground_truth.width\n",
    "    \n",
    "    labels = model.predict(image)\n",
    "    labels = labels.reshape((height, width))    \n",
    "    # Save only the green cluster (assuming it's labeled as [target_label])\n",
    "    green_segment = (labels == target_label) * 255  # Multiply by 255 to convert boolean to integer (0 or 255)\n",
    "    # Create a PIL image from the segmented green pixels\n",
    "    predicted = Image.fromarray(green_segment.astype(np.uint8))\n",
    "    \n",
    "    predicted_labels = transform(predicted)\n",
    "    \n",
    "    if image_path:\n",
    "        print(f\"Saving image to {image_path}\")\n",
    "        predicted.save(image_path)\n",
    "    \n",
    "    if plot_results:\n",
    "        plt.figure(figsize=(8, 6))\n",
    "        plt.imshow(green_segment, cmap='Greens')  # Adjust the colormap based on your preference\n",
    "        plt.axis('off')\n",
    "        plt.title('Green Pixels')\n",
    "        plt.show()\n",
    "    \n",
    "    return predicted_labels, gt_labels\n",
    "\n",
    "\n",
    "def evaluate_clustering(predicted_labels, gt_labels, num_classes:int = 2):\n",
    "    return calculate_miou(predicted_labels, gt_labels, num_classes)\n",
    "\n",
    "\n",
    "def flat_image(image, default_channels = 1):\n",
    "\n",
    "    image_array = np.array(image)\n",
    "    shape = image_array.shape\n",
    "    height, width = shape[:2]\n",
    "    image_reshaped = image_array.reshape((height * width), default_channels)\n",
    "    \n",
    "    return image_reshaped"
   ]
  },
  {
   "cell_type": "markdown",
   "metadata": {},
   "source": [
    "#### KMeans"
   ]
  },
  {
   "cell_type": "code",
   "execution_count": null,
   "metadata": {},
   "outputs": [],
   "source": [
    "kmeas_path = os.path.join(directory_path, KMEANS)\n",
    "model_tags = ['kmeans']"
   ]
  },
  {
   "cell_type": "code",
   "execution_count": null,
   "metadata": {},
   "outputs": [],
   "source": [
    "# Training data\n",
    "\n",
    "data_type = 'training'\n",
    "num_clusters = 2\n",
    "kmeans = KMeans(n_clusters=num_clusters, n_init='auto', random_state=SEED)\n",
    "experiment_name = f'kmeans_{data_type}_data'\n",
    "experiment_path = os.path.join(kmeans_path, data_type)\n",
    "\n",
    "clustering_pipeline(images = x_train,\n",
    "                    ground_truths = y_train,\n",
    "                    model = kmeans, \n",
    "                    experiment_name = experiment_name,\n",
    "                    num_clusters = num_clusters,\n",
    "                    directory_path = experiment_path,\n",
    "                    model_tags = model_tags + [data_type])"
   ]
  },
  {
   "cell_type": "code",
   "execution_count": null,
   "metadata": {},
   "outputs": [],
   "source": [
    "# Testing data\n",
    "\n",
    "data_type = 'test'\n",
    "num_clusters = 2\n",
    "kmeans = KMeans(n_clusters=num_clusters, n_init='auto', random_state=SEED)\n",
    "experiment_name = f'kmeans_{data_type}_data'\n",
    "experiment_path = os.path.join(kmeans_path, data_type)\n",
    "\n",
    "clustering_pipeline(images = x_test,\n",
    "                    ground_truths = y_test,\n",
    "                    model = kmeans, \n",
    "                    experiment_name = experiment_name,\n",
    "                    num_clusters = num_clusters,\n",
    "                    directory_path = experiment_path,\n",
    "                    model_tags = model_tags + [data_type])"
   ]
  }
 ],
 "metadata": {
  "kernelspec": {
   "display_name": "Python 3",
   "language": "python",
   "name": "python3"
  },
  "language_info": {
   "codemirror_mode": {
    "name": "ipython",
    "version": 3
   },
   "file_extension": ".py",
   "mimetype": "text/x-python",
   "name": "python",
   "nbconvert_exporter": "python",
   "pygments_lexer": "ipython3",
   "version": "3.10.13"
  }
 },
 "nbformat": 4,
 "nbformat_minor": 2
}
